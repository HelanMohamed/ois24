{
 "cells": [
  {
   "cell_type": "code",
   "execution_count": 1,
   "id": "2f9b8012-0123-4654-a61e-f96fa5404675",
   "metadata": {
    "execution": {
     "iopub.execute_input": "2024-05-31T19:58:38.234173Z",
     "iopub.status.busy": "2024-05-31T19:58:38.226689Z",
     "iopub.status.idle": "2024-05-31T19:58:39.364148Z",
     "shell.execute_reply": "2024-05-31T19:58:39.359780Z"
    },
    "tags": []
   },
   "outputs": [
    {
     "name": "stderr",
     "output_type": "stream",
     "text": [
      "Loading required package: ggplot2\n",
      "\n"
     ]
    }
   ],
   "source": [
    "if (!require(ggplot2)) install.packages(\"ggplot2\", repos = \"https://cran.rstudio.com/\")\n",
    "library(ggplot2)\n",
    "\n",
    "set.seed(123)\n",
    "data1 <- rnorm(1000, mean = 0, sd = 1)\n",
    "data2 <- rnorm(1000, mean = 2, sd = 1.5)\n",
    "\n",
    "data <- data.frame(values = c(data1, data2), group = factor(rep(c(\"Group 1\", \"Group 2\"), each = 1000)))\n",
    "\n",
    "p <- ggplot(data, aes(x = values, fill = group)) +\n",
    "  geom_density(alpha = 0.5) +\n",
    "  labs(title = \"Comparison of Two Distributions\", x = \"Values\", y = \"Density\") +\n",
    "  theme_minimal() +\n",
    "  theme(axis.text.x = element_text(angle = 45, vjust = 1, hjust=1))\n",
    "\n",
    "ggsave(\"density_plot.png\", plot = p, width = 8, height = 6, dpi = 300)\n"
   ]
  },
  {
   "cell_type": "code",
   "execution_count": null,
   "id": "242005f0-5f61-434e-bac5-8f64c7678302",
   "metadata": {},
   "outputs": [],
   "source": []
  }
 ],
 "metadata": {
  "kernelspec": {
   "display_name": "R",
   "language": "R",
   "name": "ir"
  },
  "language_info": {
   "codemirror_mode": "r",
   "file_extension": ".r",
   "mimetype": "text/x-r-source",
   "name": "R",
   "pygments_lexer": "r",
   "version": "4.3.2"
  }
 },
 "nbformat": 4,
 "nbformat_minor": 5
}
